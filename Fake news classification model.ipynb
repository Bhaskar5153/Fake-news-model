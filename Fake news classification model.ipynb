{
 "cells": [
  {
   "cell_type": "code",
   "execution_count": 1,
   "id": "5ebf65e1",
   "metadata": {},
   "outputs": [],
   "source": [
    "import re\n",
    "import numpy as np\n",
    "import pandas as pd\n",
    "import seaborn as sns\n",
    "import matplotlib.pyplot as plt"
   ]
  },
  {
   "cell_type": "code",
   "execution_count": 2,
   "id": "9eb6b3b4",
   "metadata": {},
   "outputs": [],
   "source": [
    "df = pd.read_csv('WELFake_Dataset.csv')"
   ]
  },
  {
   "cell_type": "code",
   "execution_count": 3,
   "id": "c145a20b",
   "metadata": {},
   "outputs": [
    {
     "data": {
      "text/html": [
       "<div>\n",
       "<style scoped>\n",
       "    .dataframe tbody tr th:only-of-type {\n",
       "        vertical-align: middle;\n",
       "    }\n",
       "\n",
       "    .dataframe tbody tr th {\n",
       "        vertical-align: top;\n",
       "    }\n",
       "\n",
       "    .dataframe thead th {\n",
       "        text-align: right;\n",
       "    }\n",
       "</style>\n",
       "<table border=\"1\" class=\"dataframe\">\n",
       "  <thead>\n",
       "    <tr style=\"text-align: right;\">\n",
       "      <th></th>\n",
       "      <th>Unnamed: 0</th>\n",
       "      <th>title</th>\n",
       "      <th>text</th>\n",
       "      <th>label</th>\n",
       "    </tr>\n",
       "  </thead>\n",
       "  <tbody>\n",
       "    <tr>\n",
       "      <th>0</th>\n",
       "      <td>0</td>\n",
       "      <td>LAW ENFORCEMENT ON HIGH ALERT Following Threat...</td>\n",
       "      <td>No comment is expected from Barack Obama Membe...</td>\n",
       "      <td>1</td>\n",
       "    </tr>\n",
       "    <tr>\n",
       "      <th>1</th>\n",
       "      <td>1</td>\n",
       "      <td>NaN</td>\n",
       "      <td>Did they post their votes for Hillary already?</td>\n",
       "      <td>1</td>\n",
       "    </tr>\n",
       "    <tr>\n",
       "      <th>2</th>\n",
       "      <td>2</td>\n",
       "      <td>UNBELIEVABLE! OBAMA’S ATTORNEY GENERAL SAYS MO...</td>\n",
       "      <td>Now, most of the demonstrators gathered last ...</td>\n",
       "      <td>1</td>\n",
       "    </tr>\n",
       "    <tr>\n",
       "      <th>3</th>\n",
       "      <td>3</td>\n",
       "      <td>Bobby Jindal, raised Hindu, uses story of Chri...</td>\n",
       "      <td>A dozen politically active pastors came here f...</td>\n",
       "      <td>0</td>\n",
       "    </tr>\n",
       "    <tr>\n",
       "      <th>4</th>\n",
       "      <td>4</td>\n",
       "      <td>SATAN 2: Russia unvelis an image of its terrif...</td>\n",
       "      <td>The RS-28 Sarmat missile, dubbed Satan 2, will...</td>\n",
       "      <td>1</td>\n",
       "    </tr>\n",
       "  </tbody>\n",
       "</table>\n",
       "</div>"
      ],
      "text/plain": [
       "   Unnamed: 0                                              title  \\\n",
       "0           0  LAW ENFORCEMENT ON HIGH ALERT Following Threat...   \n",
       "1           1                                                NaN   \n",
       "2           2  UNBELIEVABLE! OBAMA’S ATTORNEY GENERAL SAYS MO...   \n",
       "3           3  Bobby Jindal, raised Hindu, uses story of Chri...   \n",
       "4           4  SATAN 2: Russia unvelis an image of its terrif...   \n",
       "\n",
       "                                                text  label  \n",
       "0  No comment is expected from Barack Obama Membe...      1  \n",
       "1     Did they post their votes for Hillary already?      1  \n",
       "2   Now, most of the demonstrators gathered last ...      1  \n",
       "3  A dozen politically active pastors came here f...      0  \n",
       "4  The RS-28 Sarmat missile, dubbed Satan 2, will...      1  "
      ]
     },
     "execution_count": 3,
     "metadata": {},
     "output_type": "execute_result"
    }
   ],
   "source": [
    "df.head()"
   ]
  },
  {
   "cell_type": "code",
   "execution_count": 4,
   "id": "3756dfec",
   "metadata": {},
   "outputs": [
    {
     "data": {
      "text/plain": [
       "Unnamed: 0      0\n",
       "title         558\n",
       "text           39\n",
       "label           0\n",
       "dtype: int64"
      ]
     },
     "execution_count": 4,
     "metadata": {},
     "output_type": "execute_result"
    }
   ],
   "source": [
    "df.isnull().sum()"
   ]
  },
  {
   "cell_type": "code",
   "execution_count": 5,
   "id": "5de13984",
   "metadata": {},
   "outputs": [
    {
     "name": "stdout",
     "output_type": "stream",
     "text": [
      "<class 'pandas.core.frame.DataFrame'>\n",
      "RangeIndex: 72134 entries, 0 to 72133\n",
      "Data columns (total 4 columns):\n",
      " #   Column      Non-Null Count  Dtype \n",
      "---  ------      --------------  ----- \n",
      " 0   Unnamed: 0  72134 non-null  int64 \n",
      " 1   title       71576 non-null  object\n",
      " 2   text        72095 non-null  object\n",
      " 3   label       72134 non-null  int64 \n",
      "dtypes: int64(2), object(2)\n",
      "memory usage: 2.2+ MB\n"
     ]
    }
   ],
   "source": [
    "df.info()"
   ]
  },
  {
   "cell_type": "code",
   "execution_count": 6,
   "id": "36007b98",
   "metadata": {},
   "outputs": [],
   "source": [
    "df = df.dropna()"
   ]
  },
  {
   "cell_type": "code",
   "execution_count": 7,
   "id": "77e1179a",
   "metadata": {},
   "outputs": [
    {
     "data": {
      "text/plain": [
       "Unnamed: 0    0\n",
       "title         0\n",
       "text          0\n",
       "label         0\n",
       "dtype: int64"
      ]
     },
     "execution_count": 7,
     "metadata": {},
     "output_type": "execute_result"
    }
   ],
   "source": [
    "df.isnull().sum()"
   ]
  },
  {
   "cell_type": "code",
   "execution_count": 8,
   "id": "474d64c3",
   "metadata": {},
   "outputs": [
    {
     "data": {
      "text/plain": [
       "0        1\n",
       "2        1\n",
       "3        0\n",
       "4        1\n",
       "5        1\n",
       "        ..\n",
       "72129    0\n",
       "72130    1\n",
       "72131    0\n",
       "72132    0\n",
       "72133    1\n",
       "Name: label, Length: 71537, dtype: int64"
      ]
     },
     "execution_count": 8,
     "metadata": {},
     "output_type": "execute_result"
    }
   ],
   "source": [
    "df['label']"
   ]
  },
  {
   "cell_type": "code",
   "execution_count": 9,
   "id": "8a552a16",
   "metadata": {},
   "outputs": [
    {
     "data": {
      "text/plain": [
       "<AxesSubplot:xlabel='label', ylabel='count'>"
      ]
     },
     "execution_count": 9,
     "metadata": {},
     "output_type": "execute_result"
    },
    {
     "data": {
      "image/png": "[encoded data removed]",
      "text/plain": [
       "<Figure size 432x288 with 1 Axes>"
      ]
     },
     "metadata": {
      "needs_background": "light"
     },
     "output_type": "display_data"
    }
   ],
   "source": [
    "sns.countplot(data=df, x='label')"
   ]
  },
  {
   "cell_type": "code",
   "execution_count": 10,
   "id": "f328af24",
   "metadata": {},
   "outputs": [
    {
     "data": {
      "text/plain": [
       "0        LAW ENFORCEMENT ON HIGH ALERT Following Threat...\n",
       "2        UNBELIEVABLE! OBAMA’S ATTORNEY GENERAL SAYS MO...\n",
       "3        Bobby Jindal, raised Hindu, uses story of Chri...\n",
       "4        SATAN 2: Russia unvelis an image of its terrif...\n",
       "5        About Time! Christian Group Sues Amazon and SP...\n",
       "                               ...                        \n",
       "72129    Russians steal research on Trump in hack of U....\n",
       "72130     WATCH: Giuliani Demands That Democrats Apolog...\n",
       "72131    Migrants Refuse To Leave Train At Refugee Camp...\n",
       "72132    Trump tussle gives unpopular Mexican leader mu...\n",
       "72133    Goldman Sachs Endorses Hillary Clinton For Pre...\n",
       "Name: title, Length: 71537, dtype: object"
      ]
     },
     "execution_count": 10,
     "metadata": {},
     "output_type": "execute_result"
    }
   ],
   "source": [
    "df['title']"
   ]
  },
  {
   "cell_type": "code",
   "execution_count": 11,
   "id": "f6a83a8d",
   "metadata": {},
   "outputs": [
    {
     "data": {
      "text/plain": [
       "Factbox: Trump fills top jobs for his administration                                                  14\n",
       "Factbox: Contenders for senior jobs in Trump's administration                                          8\n",
       "Get Ready For Civil Unrest: Survey Finds That Most Americans Are Concerned About Election Violence     8\n",
       "Highlights: The Trump presidency on April 13 at 9:30 P.M. EDT/0130 GMT on Friday                       8\n",
       "The Dark Agenda Behind Globalism And Open Borders                                                      7\n",
       "                                                                                                      ..\n",
       "Trump speaks to Qatar emir on Gulf unity, terrorism fight: White House                                 1\n",
       " Eric Trump: Hispanics ‘Can’t Wait’ For My Dad To Win The Election (AUDIO)                             1\n",
       "Population of Vertebrate Animals Fell 58% From 1970-2012                                               1\n",
       "Italy's Renzi pledges to hike budget deficit if he wins election                                       1\n",
       "Trump tussle gives unpopular Mexican leader much-needed shot in arm                                    1\n",
       "Name: title, Length: 62308, dtype: int64"
      ]
     },
     "execution_count": 11,
     "metadata": {},
     "output_type": "execute_result"
    }
   ],
   "source": [
    "df['title'].value_counts()"
   ]
  },
  {
   "cell_type": "code",
   "execution_count": 12,
   "id": "b5aa0b6e",
   "metadata": {},
   "outputs": [
    {
     "data": {
      "text/plain": [
       "0        No comment is expected from Barack Obama Membe...\n",
       "2         Now, most of the demonstrators gathered last ...\n",
       "3        A dozen politically active pastors came here f...\n",
       "4        The RS-28 Sarmat missile, dubbed Satan 2, will...\n",
       "5        All we can say on this one is it s about time ...\n",
       "                               ...                        \n",
       "72129    WASHINGTON (Reuters) - Hackers believed to be ...\n",
       "72130    You know, because in fantasyland Republicans n...\n",
       "72131    Migrants Refuse To Leave Train At Refugee Camp...\n",
       "72132    MEXICO CITY (Reuters) - Donald Trump’s combati...\n",
       "72133    Goldman Sachs Endorses Hillary Clinton For Pre...\n",
       "Name: text, Length: 71537, dtype: object"
      ]
     },
     "execution_count": 12,
     "metadata": {},
     "output_type": "execute_result"
    }
   ],
   "source": [
    "df['text']"
   ]
  },
  {
   "cell_type": "code",
   "execution_count": 13,
   "id": "b116afb4",
   "metadata": {},
   "outputs": [],
   "source": [
    "# my_text = ''"
   ]
  },
  {
   "cell_type": "code",
   "execution_count": 14,
   "id": "20814104",
   "metadata": {},
   "outputs": [],
   "source": [
    "# for idx, text in enumerate(df['text']):\n",
    "    \n",
    "#     clean_text = re.sub('[^A-Za-z ]', '', text)\n",
    "#     clean_text = clean_text.lower()\n",
    "#     my_text = my_text + clean_text"
   ]
  },
  {
   "cell_type": "code",
   "execution_count": 15,
   "id": "c796b0de",
   "metadata": {},
   "outputs": [],
   "source": [
    "from wordcloud import WordCloud"
   ]
  },
  {
   "cell_type": "code",
   "execution_count": 16,
   "id": "546b8407",
   "metadata": {},
   "outputs": [],
   "source": [
    "# wc = WordCloud(background_color='white', max_words=200).generate(my_text)\n",
    "# plt.figure(figsize=(20, 10))\n",
    "# plt.imshow(wc, interpolation='bilinear')\n",
    "# plt.show()"
   ]
  },
  {
   "cell_type": "code",
   "execution_count": 17,
   "id": "cc174168",
   "metadata": {},
   "outputs": [],
   "source": [
    "# my_text"
   ]
  },
  {
   "cell_type": "code",
   "execution_count": 18,
   "id": "9f636a4d",
   "metadata": {},
   "outputs": [],
   "source": [
    "from sklearn.model_selection import train_test_split\n",
    "from sklearn.feature_extraction.text import CountVectorizer, TfidfVectorizer"
   ]
  },
  {
   "cell_type": "code",
   "execution_count": 19,
   "id": "d1a8853c",
   "metadata": {},
   "outputs": [],
   "source": [
    "X = df['text']"
   ]
  },
  {
   "cell_type": "code",
   "execution_count": 20,
   "id": "7030850a",
   "metadata": {},
   "outputs": [],
   "source": [
    "y = df['label']"
   ]
  },
  {
   "cell_type": "code",
   "execution_count": 21,
   "id": "fd313bf8",
   "metadata": {},
   "outputs": [],
   "source": [
    "cv = CountVectorizer()"
   ]
  },
  {
   "cell_type": "code",
   "execution_count": 22,
   "id": "c8443806",
   "metadata": {},
   "outputs": [
    {
     "data": {
      "text/plain": [
       "CountVectorizer()"
      ]
     },
     "execution_count": 22,
     "metadata": {},
     "output_type": "execute_result"
    }
   ],
   "source": [
    "cv.fit(X)"
   ]
  },
  {
   "cell_type": "code",
   "execution_count": 23,
   "id": "405aeeb1",
   "metadata": {},
   "outputs": [],
   "source": [
    "features = cv.transform(X)"
   ]
  },
  {
   "cell_type": "code",
   "execution_count": 24,
   "id": "321ba38b",
   "metadata": {},
   "outputs": [],
   "source": [
    "X_train, X_test, y_train, y_test = train_test_split(features, y, test_size=0.3, random_state=55)"
   ]
  },
  {
   "cell_type": "code",
   "execution_count": 25,
   "id": "9e0d5dda",
   "metadata": {},
   "outputs": [],
   "source": [
    "from sklearn.tree import DecisionTreeClassifier"
   ]
  },
  {
   "cell_type": "code",
   "execution_count": 26,
   "id": "97dbfbd2",
   "metadata": {},
   "outputs": [],
   "source": [
    "tree = DecisionTreeClassifier()"
   ]
  },
  {
   "cell_type": "code",
   "execution_count": 27,
   "id": "2bad688f",
   "metadata": {},
   "outputs": [
    {
     "data": {
      "text/plain": [
       "DecisionTreeClassifier()"
      ]
     },
     "execution_count": 27,
     "metadata": {},
     "output_type": "execute_result"
    }
   ],
   "source": [
    "tree.fit(X_train, y_train)"
   ]
  },
  {
   "cell_type": "code",
   "execution_count": 28,
   "id": "b2746ebc",
   "metadata": {},
   "outputs": [],
   "source": [
    "pred = tree.predict(X_test)"
   ]
  },
  {
   "cell_type": "code",
   "execution_count": 29,
   "id": "1be5550e",
   "metadata": {},
   "outputs": [
    {
     "data": {
      "text/plain": [
       "array([1, 1, 0, ..., 0, 0, 1], dtype=int64)"
      ]
     },
     "execution_count": 29,
     "metadata": {},
     "output_type": "execute_result"
    }
   ],
   "source": [
    "pred"
   ]
  },
  {
   "cell_type": "code",
   "execution_count": 30,
   "id": "e06a7763",
   "metadata": {},
   "outputs": [],
   "source": [
    "from sklearn.metrics import confusion_matrix, plot_confusion_matrix, accuracy_score, classification_report"
   ]
  },
  {
   "cell_type": "code",
   "execution_count": 31,
   "id": "127cfe96",
   "metadata": {},
   "outputs": [
    {
     "data": {
      "text/plain": [
       "array([[ 9670,   907],\n",
       "       [  649, 10236]], dtype=int64)"
      ]
     },
     "execution_count": 31,
     "metadata": {},
     "output_type": "execute_result"
    }
   ],
   "source": [
    "confusion_matrix(y_test, pred)"
   ]
  },
  {
   "cell_type": "code",
   "execution_count": 32,
   "id": "784f56c4",
   "metadata": {},
   "outputs": [
    {
     "name": "stderr",
     "output_type": "stream",
     "text": [
      "C:\\ProgramData\\Anaconda3\\lib\\site-packages\\sklearn\\utils\\deprecation.py:87: FutureWarning: Function plot_confusion_matrix is deprecated; Function `plot_confusion_matrix` is deprecated in 1.0 and will be removed in 1.2. Use one of the class methods: ConfusionMatrixDisplay.from_predictions or ConfusionMatrixDisplay.from_estimator.\n",
      "  warnings.warn(msg, category=FutureWarning)\n"
     ]
    },
    {
     "data": {
      "text/plain": [
       "<sklearn.metrics._plot.confusion_matrix.ConfusionMatrixDisplay at 0x267b002edc0>"
      ]
     },
     "execution_count": 32,
     "metadata": {},
     "output_type": "execute_result"
    },
    {
     "data": {
      "image/png": "[encoded data removed]",
      "text/plain": [
       "<Figure size 432x288 with 2 Axes>"
      ]
     },
     "metadata": {
      "needs_background": "light"
     },
     "output_type": "display_data"
    }
   ],
   "source": [
    "plot_confusion_matrix(estimator=tree, X=X_test, y_true=y_test)"
   ]
  },
  {
   "cell_type": "code",
   "execution_count": 33,
   "id": "359025fb",
   "metadata": {},
   "outputs": [
    {
     "name": "stdout",
     "output_type": "stream",
     "text": [
      "              precision    recall  f1-score   support\n",
      "\n",
      "           0       0.94      0.91      0.93     10577\n",
      "           1       0.92      0.94      0.93     10885\n",
      "\n",
      "    accuracy                           0.93     21462\n",
      "   macro avg       0.93      0.93      0.93     21462\n",
      "weighted avg       0.93      0.93      0.93     21462\n",
      "\n"
     ]
    }
   ],
   "source": [
    "print(classification_report(y_test, pred))"
   ]
  },
  {
   "cell_type": "code",
   "execution_count": 34,
   "id": "0c0d9f26",
   "metadata": {},
   "outputs": [],
   "source": [
    "q = ['Did they post their votes for Hillary already?']"
   ]
  },
  {
   "cell_type": "code",
   "execution_count": 35,
   "id": "93913fee",
   "metadata": {},
   "outputs": [],
   "source": [
    "q = cv.transform(q)"
   ]
  },
  {
   "cell_type": "code",
   "execution_count": 36,
   "id": "d2f13d1c",
   "metadata": {},
   "outputs": [
    {
     "data": {
      "text/plain": [
       "<1x243189 sparse matrix of type '<class 'numpy.int64'>'\n",
       "\twith 8 stored elements in Compressed Sparse Row format>"
      ]
     },
     "execution_count": 36,
     "metadata": {},
     "output_type": "execute_result"
    }
   ],
   "source": [
    "q"
   ]
  },
  {
   "cell_type": "code",
   "execution_count": 37,
   "id": "f9d4dc8d",
   "metadata": {},
   "outputs": [],
   "source": [
    "p = tree.predict(q)"
   ]
  },
  {
   "cell_type": "code",
   "execution_count": 38,
   "id": "f7ef5f7b",
   "metadata": {},
   "outputs": [
    {
     "data": {
      "text/plain": [
       "array([1], dtype=int64)"
      ]
     },
     "execution_count": 38,
     "metadata": {},
     "output_type": "execute_result"
    }
   ],
   "source": [
    "p"
   ]
  },
  {
   "cell_type": "code",
   "execution_count": 39,
   "id": "c3517899",
   "metadata": {},
   "outputs": [],
   "source": [
    "q = [\"BAGHDAD/LONDON (Reuters) - When the Iraqi army and Iranian-backed Shi ite militia entered a key oil processing facility in Iraq s north to retake it from Kurdish Peshmerga forces last week, the installation was deserted and its alarm bells ringing. Engineers and workers on the facility, which processes oil from two major fields in the Kirkuk area of predominantly Sunni Kurdistan, had fled, fearing the military advance.  No one wanted to risk their life and decided to evacuate as stories about the Shi ite militia and Qassem Soleimani were spreading fast,  said a senior Kurdish oil industry source, referring to the head of foreign operations for Iran s elite Revolutionary Guards. The source declined to be identified. Iraqi engineers arrived to the sound of alarm bells warning about system malfunctions, prompting them to immediately shut down wells. Now, they need passwords and expertise from their Kurdish counterparts to restore oil output fully.  The loss of control of Kirkuk oil fields is likely to starve the KRG of vital oil revenue and cause deep concern to global trading houses such as Vitol and Glencore, which have granted the semi-autonomous government billions of dollars in loans against future oil sales. Baghdad s lightning military offensive into northern Iraq came after the Kurdistan Regional Government held an independence referendum last month. Major-General Soleimani, one of the most influential military figures in the Middle East, with reach in Syria and Lebanon, issued tough warnings to Kurdish leaders ahead of the Iraqi military advance.  We went inside the oilfield facilities after Kurdish workers fled and we found overalls and safety boots thrown on the ground,  said an engineer from the Baghdad-run North Oil Company, who declined to be named because he was ordered not to speak publicly about the issue.   It seems that workers took them off and escaped very quickly.   NOC crews entered oil facilities in the Bai Hassan and Avana fields on Oct. 17 for the first time since 2014, when Peshmerga forces drove Islamic State from the area and found all crude oil stations unmanned. Peshmerga fighters had also withdrawn.  After we discovered that some of the key equipment was missing and the control panel was ringing alarms of crude processing malfunction, we immediately shut down oil wells,  the NOC engineer said. A week after the operation, Iraqi engineers are still struggling to resume Kirkuk s oil production, saying they had yet to understand how to operate the equipment processing some 350,000 barrels per day. The military offensive more than halved Kurdistan s oil output and cut its exports to global markets via Turkey by two thirds.  The drop in exports has deprived the region of more than $200 million in revenues over the past week, a Kurdish oil industry source familiar with loadings told Reuters. It has also dealt a further blow to the region s finances already stretched by a fight against Islamic State and a budget crisis caused by a fall in oil prices. The United States has called on both sides to resume dialogue, saying the tensions hamper efforts to fight Islamic State. Resuming normal oil production and exports will be challenging and will take at least another week and will only succeed if Iraqi and Kurdish engineers agree to cooperate, according to both sides. On Tuesday, NOC officials asked Kurdish engineering firm Kar Group to send back its workers, according to sources on both sides. Iraqi engineers need guidance on how to operate recently installed equipment at Bai Hassan and Avana, the sources said. The pumping and operational stations for both oil fields are located in the city of Dahuk, which unlike Kirkuk is still under the control of the Peshmerga forces.  Energy facilities in Kirkuk are more like a locked box and only their crew have the password,  the Iraqi engineer said. Kar Group has, however, so far refrained from going back without security guarantees, according to sources close to the engineering company. Kirkuk, one of the oldest and best known oil areas in the Middle East, had long been under the control of Iraqi forces until it was over-run by Islamic State. In 2014, it was retaken by the Peshmerga, the official security forces of the KRG, as part of their advance on Islamic State. That allowed Kurdistan to regain control of an area it believes is historically Kurdish and ramp up exports from the oil fields while borrowing billions of dollars from trading houses and Russian state oil major Rosneft.  We need to figure out who gets what when the fields resume production. At the moment the potential split of revenues is far from clear,  said the Kurdish oil industry source. Before the referendum, Kurdistan was exporting some 600,000 bpd of crude via Turkey, which it said had made it almost totally economically independent as it could pay its own bills without the need to wait for budget transfers from Baghdad. Under the deal with Baghdad, Kurdistan was exporting 540,000 bpd on behalf of the government in the city of Erbil and some 60,000 bpd on behalf of NOC. With the loss of control of the Kirkuk area, Kurdistan will be in theory left with only 250,000-300,000 bpd of its own output, less than it needs to cover its debt obligations. Vitol, Glencore, Petraco and Trafigura have loaned Kurdistan some $2.5 billion and Russia s Rosneft has loaned some $1.2 billion. Glencore s boss Ivan Glasenberg said last week he could not rule out a rescheduling of the payments\"]"
   ]
  },
  {
   "cell_type": "code",
   "execution_count": 40,
   "id": "69f94644",
   "metadata": {},
   "outputs": [],
   "source": [
    "q = cv.transform(q)"
   ]
  },
  {
   "cell_type": "code",
   "execution_count": 41,
   "id": "7753882d",
   "metadata": {},
   "outputs": [],
   "source": [
    "p = tree.predict(q)"
   ]
  },
  {
   "cell_type": "code",
   "execution_count": 42,
   "id": "5c038c39",
   "metadata": {},
   "outputs": [
    {
     "data": {
      "text/plain": [
       "array([0], dtype=int64)"
      ]
     },
     "execution_count": 42,
     "metadata": {},
     "output_type": "execute_result"
    }
   ],
   "source": [
    "p"
   ]
  },
  {
   "cell_type": "code",
   "execution_count": null,
   "id": "78952e83",
   "metadata": {},
   "outputs": [],
   "source": []
  },
  {
   "cell_type": "code",
   "execution_count": null,
   "id": "a96a61f0",
   "metadata": {},
   "outputs": [],
   "source": []
  },
  {
   "cell_type": "code",
   "execution_count": null,
   "id": "5f427c41",
   "metadata": {},
   "outputs": [],
   "source": []
  },
  {
   "cell_type": "code",
   "execution_count": null,
   "id": "468347bd",
   "metadata": {},
   "outputs": [],
   "source": []
  },
  {
   "cell_type": "code",
   "execution_count": null,
   "id": "ab768d19",
   "metadata": {},
   "outputs": [],
   "source": []
  },
  {
   "cell_type": "code",
   "execution_count": null,
   "id": "e904a491",
   "metadata": {},
   "outputs": [],
   "source": []
  },
  {
   "cell_type": "code",
   "execution_count": null,
   "id": "805cc85a",
   "metadata": {},
   "outputs": [],
   "source": []
  },
  {
   "cell_type": "code",
   "execution_count": null,
   "id": "86e96267",
   "metadata": {},
   "outputs": [],
   "source": []
  }
 ],
 "metadata": {
  "kernelspec": {
   "display_name": "Python 3 (ipykernel)",
   "language": "python",
   "name": "python3"
  },
  "language_info": {
   "codemirror_mode": {
    "name": "ipython",
    "version": 3
   },
   "file_extension": ".py",
   "mimetype": "text/x-python",
   "name": "python",
   "nbconvert_exporter": "python",
   "pygments_lexer": "ipython3",
   "version": "3.9.12"
  }
 },
 "nbformat": 4,
 "nbformat_minor": 5
}
